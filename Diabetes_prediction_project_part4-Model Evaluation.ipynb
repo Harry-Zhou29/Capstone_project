{
 "cells": [
  {
   "cell_type": "markdown",
   "metadata": {},
   "source": [
    "# Model Evaluation- Part 4\n",
    "\n",
    "Author: Harry Zhou\n",
    "\n",
    "Contact: haininzhou@gmail.com\n",
    "\n",
    "Date: 2023-07-20"
   ]
  },
  {
   "cell_type": "markdown",
   "metadata": {},
   "source": [
    "# Introduction\n",
    "\n",
    "Model evaluation is a crucial step in assessing the performance and effectiveness of a predictive model. It allows us to understand how well our model generalizes to unseen data and provides insights into its strengths and limitations. In this report, we present a comprehensive evaluation of our part, we aiming to analyze its performance and provide valuable insights for decision-making and further improvements."
   ]
  },
  {
   "cell_type": "markdown",
   "metadata": {},
   "source": [
    "## Table of Contents\n",
    "\n",
    "1.[Preprocessing data ](#1.-Preprocessing-data)\n",
    "  \n",
    "  \n",
    "2.[Fitting the Different Sklearn Machine Learning Classifiers](#2.-Fitting-the-Different-Sklearn-Machine-Learning-Classifiers)\n",
    "  \n",
    "  \n",
    "3.[Summary](#3.-Summary)"
   ]
  },
  {
   "cell_type": "markdown",
   "metadata": {},
   "source": [
    "## 1. Preprocessing data"
   ]
  },
  {
   "cell_type": "code",
   "execution_count": 1,
   "metadata": {},
   "outputs": [],
   "source": [
    "# Importing everything we need\n",
    "# The usual packages\n",
    "import numpy as np\n",
    "import pandas as pd\n",
    "import matplotlib.pyplot as plt\n",
    "%matplotlib inline\n",
    "import seaborn as sns\n",
    "\n",
    "# Splitting data\n",
    "from sklearn.model_selection import train_test_split\n",
    "\n",
    "# Scalers\n",
    "from sklearn.preprocessing import MinMaxScaler\n",
    "\n",
    "from sklearn.metrics import RocCurveDisplay\n",
    "\n",
    "# Classifiers\n",
    "from sklearn.linear_model import LogisticRegression\n",
    "from sklearn.neighbors import KNeighborsClassifier\n",
    "from sklearn.tree import DecisionTreeClassifier\n",
    "from sklearn.svm import SVC"
   ]
  },
  {
   "cell_type": "code",
   "execution_count": 2,
   "metadata": {},
   "outputs": [
    {
     "data": {
      "text/html": [
       "<div>\n",
       "<style scoped>\n",
       "    .dataframe tbody tr th:only-of-type {\n",
       "        vertical-align: middle;\n",
       "    }\n",
       "\n",
       "    .dataframe tbody tr th {\n",
       "        vertical-align: top;\n",
       "    }\n",
       "\n",
       "    .dataframe thead th {\n",
       "        text-align: right;\n",
       "    }\n",
       "</style>\n",
       "<table border=\"1\" class=\"dataframe\">\n",
       "  <thead>\n",
       "    <tr style=\"text-align: right;\">\n",
       "      <th></th>\n",
       "      <th>Diabetes_012</th>\n",
       "      <th>Age</th>\n",
       "      <th>Sex</th>\n",
       "      <th>Education</th>\n",
       "      <th>Income</th>\n",
       "      <th>HighBP</th>\n",
       "      <th>CholCheck</th>\n",
       "      <th>HighChol</th>\n",
       "      <th>BMI</th>\n",
       "      <th>Smoker</th>\n",
       "      <th>...</th>\n",
       "      <th>Fruits</th>\n",
       "      <th>Veggies</th>\n",
       "      <th>HvyAlcoholConsump</th>\n",
       "      <th>AnyHealthcare</th>\n",
       "      <th>NoDocbcCost</th>\n",
       "      <th>GenHlth</th>\n",
       "      <th>MentHlth</th>\n",
       "      <th>PhysHlth</th>\n",
       "      <th>DiffWalk</th>\n",
       "      <th>Blind</th>\n",
       "    </tr>\n",
       "  </thead>\n",
       "  <tbody>\n",
       "    <tr>\n",
       "      <th>0</th>\n",
       "      <td>0</td>\n",
       "      <td>11</td>\n",
       "      <td>0</td>\n",
       "      <td>4</td>\n",
       "      <td>5</td>\n",
       "      <td>0</td>\n",
       "      <td>1</td>\n",
       "      <td>1</td>\n",
       "      <td>1</td>\n",
       "      <td>1</td>\n",
       "      <td>...</td>\n",
       "      <td>1</td>\n",
       "      <td>1</td>\n",
       "      <td>0</td>\n",
       "      <td>1</td>\n",
       "      <td>0</td>\n",
       "      <td>5</td>\n",
       "      <td>10</td>\n",
       "      <td>20</td>\n",
       "      <td>0</td>\n",
       "      <td>0</td>\n",
       "    </tr>\n",
       "    <tr>\n",
       "      <th>1</th>\n",
       "      <td>2</td>\n",
       "      <td>11</td>\n",
       "      <td>0</td>\n",
       "      <td>4</td>\n",
       "      <td>3</td>\n",
       "      <td>1</td>\n",
       "      <td>1</td>\n",
       "      <td>0</td>\n",
       "      <td>3</td>\n",
       "      <td>0</td>\n",
       "      <td>...</td>\n",
       "      <td>1</td>\n",
       "      <td>0</td>\n",
       "      <td>0</td>\n",
       "      <td>1</td>\n",
       "      <td>0</td>\n",
       "      <td>2</td>\n",
       "      <td>0</td>\n",
       "      <td>0</td>\n",
       "      <td>0</td>\n",
       "      <td>0</td>\n",
       "    </tr>\n",
       "    <tr>\n",
       "      <th>2</th>\n",
       "      <td>2</td>\n",
       "      <td>9</td>\n",
       "      <td>0</td>\n",
       "      <td>4</td>\n",
       "      <td>7</td>\n",
       "      <td>1</td>\n",
       "      <td>1</td>\n",
       "      <td>1</td>\n",
       "      <td>4</td>\n",
       "      <td>0</td>\n",
       "      <td>...</td>\n",
       "      <td>1</td>\n",
       "      <td>1</td>\n",
       "      <td>0</td>\n",
       "      <td>1</td>\n",
       "      <td>0</td>\n",
       "      <td>2</td>\n",
       "      <td>10</td>\n",
       "      <td>0</td>\n",
       "      <td>0</td>\n",
       "      <td>0</td>\n",
       "    </tr>\n",
       "    <tr>\n",
       "      <th>3</th>\n",
       "      <td>0</td>\n",
       "      <td>13</td>\n",
       "      <td>1</td>\n",
       "      <td>5</td>\n",
       "      <td>6</td>\n",
       "      <td>0</td>\n",
       "      <td>1</td>\n",
       "      <td>0</td>\n",
       "      <td>2</td>\n",
       "      <td>1</td>\n",
       "      <td>...</td>\n",
       "      <td>0</td>\n",
       "      <td>0</td>\n",
       "      <td>0</td>\n",
       "      <td>1</td>\n",
       "      <td>0</td>\n",
       "      <td>3</td>\n",
       "      <td>0</td>\n",
       "      <td>0</td>\n",
       "      <td>1</td>\n",
       "      <td>0</td>\n",
       "    </tr>\n",
       "    <tr>\n",
       "      <th>4</th>\n",
       "      <td>0</td>\n",
       "      <td>10</td>\n",
       "      <td>0</td>\n",
       "      <td>4</td>\n",
       "      <td>8</td>\n",
       "      <td>1</td>\n",
       "      <td>1</td>\n",
       "      <td>0</td>\n",
       "      <td>4</td>\n",
       "      <td>1</td>\n",
       "      <td>...</td>\n",
       "      <td>1</td>\n",
       "      <td>1</td>\n",
       "      <td>0</td>\n",
       "      <td>1</td>\n",
       "      <td>0</td>\n",
       "      <td>3</td>\n",
       "      <td>5</td>\n",
       "      <td>25</td>\n",
       "      <td>1</td>\n",
       "      <td>0</td>\n",
       "    </tr>\n",
       "  </tbody>\n",
       "</table>\n",
       "<p>5 rows × 24 columns</p>\n",
       "</div>"
      ],
      "text/plain": [
       "   Diabetes_012  Age  Sex  Education  Income  HighBP  CholCheck  HighChol  \\\n",
       "0             0   11    0          4       5       0          1         1   \n",
       "1             2   11    0          4       3       1          1         0   \n",
       "2             2    9    0          4       7       1          1         1   \n",
       "3             0   13    1          5       6       0          1         0   \n",
       "4             0   10    0          4       8       1          1         0   \n",
       "\n",
       "   BMI  Smoker  ...  Fruits  Veggies  HvyAlcoholConsump  AnyHealthcare  \\\n",
       "0    1       1  ...       1        1                  0              1   \n",
       "1    3       0  ...       1        0                  0              1   \n",
       "2    4       0  ...       1        1                  0              1   \n",
       "3    2       1  ...       0        0                  0              1   \n",
       "4    4       1  ...       1        1                  0              1   \n",
       "\n",
       "   NoDocbcCost  GenHlth  MentHlth  PhysHlth  DiffWalk  Blind  \n",
       "0            0        5        10        20         0      0  \n",
       "1            0        2         0         0         0      0  \n",
       "2            0        2        10         0         0      0  \n",
       "3            0        3         0         0         1      0  \n",
       "4            0        3         5        25         1      0  \n",
       "\n",
       "[5 rows x 24 columns]"
      ]
     },
     "execution_count": 2,
     "metadata": {},
     "output_type": "execute_result"
    }
   ],
   "source": [
    "df_clean = pd.read_csv(\"diabetes_health_indicators_BRFSS2021.csv\")\n",
    "\n",
    "df_clean.head()"
   ]
  },
  {
   "cell_type": "code",
   "execution_count": 3,
   "metadata": {},
   "outputs": [
    {
     "data": {
      "text/plain": [
       "array([0, 1], dtype=int64)"
      ]
     },
     "execution_count": 3,
     "metadata": {},
     "output_type": "execute_result"
    }
   ],
   "source": [
    "#Copy old table to new one.\n",
    "brfss_binary = df_clean\n",
    "#Change the diabetics 2 to a 1, so that we have 0 meaning non-diabetic and pre-diabetic and 1 meaning diabetic.\n",
    "brfss_binary['Diabetes_012'] = brfss_binary['Diabetes_012'].replace({2:1})\n",
    "\n",
    "#Change the column name to Diabetes_binary\n",
    "brfss_binary = brfss_binary.rename(columns = {'Diabetes_012': 'Diabetes_binary'})\n",
    "brfss_binary.Diabetes_binary.unique()"
   ]
  },
  {
   "cell_type": "markdown",
   "metadata": {},
   "source": [
    "Base on the Part3, we did correlations between each independent variables, we drop HeartDisease columns."
   ]
  },
  {
   "cell_type": "code",
   "execution_count": 4,
   "metadata": {},
   "outputs": [],
   "source": [
    "# Drop the identified columns as colliniear\n",
    "\n",
    "brfss_binary.drop(columns=['HeartDisease'], axis=1, inplace=True)"
   ]
  },
  {
   "cell_type": "markdown",
   "metadata": {},
   "source": [
    "Base on the part 3 ,we selected 17 features as our final dataset."
   ]
  },
  {
   "cell_type": "code",
   "execution_count": 5,
   "metadata": {},
   "outputs": [],
   "source": [
    "colomns = [\"Fruits\" , \"Veggies\" , \"CholCheck\" , \"AnyHealthcare\" , \"NoDocbcCost\"]\n",
    "brfss_binary.drop(colomns , axis= 1 ,inplace=True)"
   ]
  },
  {
   "cell_type": "code",
   "execution_count": 6,
   "metadata": {},
   "outputs": [
    {
     "name": "stdout",
     "output_type": "stream",
     "text": [
      "<class 'pandas.core.frame.DataFrame'>\n",
      "RangeIndex: 215258 entries, 0 to 215257\n",
      "Data columns (total 18 columns):\n",
      " #   Column                Non-Null Count   Dtype\n",
      "---  ------                --------------   -----\n",
      " 0   Diabetes_binary       215258 non-null  int64\n",
      " 1   Age                   215258 non-null  int64\n",
      " 2   Sex                   215258 non-null  int64\n",
      " 3   Education             215258 non-null  int64\n",
      " 4   Income                215258 non-null  int64\n",
      " 5   HighBP                215258 non-null  int64\n",
      " 6   HighChol              215258 non-null  int64\n",
      " 7   BMI                   215258 non-null  int64\n",
      " 8   Smoker                215258 non-null  int64\n",
      " 9   Stroke                215258 non-null  int64\n",
      " 10  HeartDiseaseorAttack  215258 non-null  int64\n",
      " 11  PhysActivity          215258 non-null  int64\n",
      " 12  HvyAlcoholConsump     215258 non-null  int64\n",
      " 13  GenHlth               215258 non-null  int64\n",
      " 14  MentHlth              215258 non-null  int64\n",
      " 15  PhysHlth              215258 non-null  int64\n",
      " 16  DiffWalk              215258 non-null  int64\n",
      " 17  Blind                 215258 non-null  int64\n",
      "dtypes: int64(18)\n",
      "memory usage: 29.6 MB\n"
     ]
    }
   ],
   "source": [
    "brfss_binary.info()"
   ]
  },
  {
   "cell_type": "markdown",
   "metadata": {},
   "source": [
    "As we can see, the data has 215,258  transactions, 18 features and the first column is the target. Let's separate our data accordingly. "
   ]
  },
  {
   "cell_type": "code",
   "execution_count": 7,
   "metadata": {},
   "outputs": [],
   "source": [
    "X=brfss_binary.drop(\"Diabetes_binary\",axis=1)\n",
    "y=brfss_binary[\"Diabetes_binary\"]"
   ]
  },
  {
   "cell_type": "code",
   "execution_count": 8,
   "metadata": {},
   "outputs": [
    {
     "data": {
      "text/plain": [
       "0    175326\n",
       "1     39932\n",
       "Name: Diabetes_binary, dtype: int64"
      ]
     },
     "execution_count": 8,
     "metadata": {},
     "output_type": "execute_result"
    }
   ],
   "source": [
    "y.value_counts()"
   ]
  },
  {
   "cell_type": "code",
   "execution_count": 9,
   "metadata": {},
   "outputs": [
    {
     "data": {
      "text/plain": [
       "<Axes: >"
      ]
     },
     "execution_count": 9,
     "metadata": {},
     "output_type": "execute_result"
    },
    {
     "data": {
      "image/png": "[encoded data removed]",
      "text/plain": [
       "<Figure size 640x480 with 1 Axes>"
      ]
     },
     "metadata": {},
     "output_type": "display_data"
    }
   ],
   "source": [
    "y.value_counts().plot(kind='bar')"
   ]
  },
  {
   "cell_type": "markdown",
   "metadata": {},
   "source": [
    "In this data set, only 39932 of the total 215,258 transactions are fraudulent.This is an example of a data set with highly imbalanced classes, or, more generally speaking, a highly imbalanced classification problem."
   ]
  },
  {
   "cell_type": "code",
   "execution_count": 10,
   "metadata": {},
   "outputs": [],
   "source": [
    "from imblearn.under_sampling import NearMiss\n",
    "nm = NearMiss(version = 1 , n_neighbors = 10)\n",
    "\n",
    "x_sm,y_sm= nm.fit_resample(X,y)"
   ]
  },
  {
   "cell_type": "code",
   "execution_count": 11,
   "metadata": {
    "scrolled": true
   },
   "outputs": [],
   "source": [
    "# split the data into training and testing sets\n",
    "X_train, X_test, y_train, y_test = train_test_split(x_sm, y_sm, test_size = 0.3, random_state=1)"
   ]
  },
  {
   "cell_type": "code",
   "execution_count": 12,
   "metadata": {},
   "outputs": [],
   "source": [
    "# Instantiate the scaler\n",
    "MM = MinMaxScaler()\n",
    "\n",
    "# Fit the scaler and transform both data subsets\n",
    "X_train_mm = MM.fit_transform(X_train)\n",
    "X_test_mm = MM.transform(X_test)"
   ]
  },
  {
   "cell_type": "code",
   "execution_count": 13,
   "metadata": {},
   "outputs": [
    {
     "name": "stdout",
     "output_type": "stream",
     "text": [
      "Model: LogisticRegression\n",
      "[[10733  1274]\n",
      " [ 3597  8356]]\n",
      "\n",
      "Model: DecisionTreeClassifier\n",
      "[[11115   892]\n",
      " [ 3648  8305]]\n",
      "\n",
      "Model: SVC\n",
      "[[11165   842]\n",
      " [ 3660  8293]]\n",
      "\n",
      "Model: KNeighborsClassifier\n",
      "[[10898  1109]\n",
      " [ 4975  6978]]\n",
      "\n"
     ]
    }
   ],
   "source": [
    "from sklearn.metrics import confusion_matrix\n",
    "\n",
    "# Define the models\n",
    "models = [\n",
    "    LogisticRegression(C=1),\n",
    "    DecisionTreeClassifier(max_depth=10),\n",
    "    SVC(probability=True),\n",
    "    KNeighborsClassifier(n_neighbors=48)\n",
    "]\n",
    "\n",
    "# Evaluate each model and print the confusion matrix\n",
    "for model in models:\n",
    "    model.fit(X_train_mm, y_train)\n",
    "    y_pred = model.predict(X_test_mm)\n",
    "    confusion_mat = confusion_matrix(y_test, y_pred)\n",
    "    \n",
    "    print(\"Model:\", type(model).__name__)\n",
    "    print(confusion_mat)\n",
    "    print()\n"
   ]
  },
  {
   "cell_type": "code",
   "execution_count": 14,
   "metadata": {},
   "outputs": [
    {
     "name": "stdout",
     "output_type": "stream",
     "text": [
      "Model: LogisticRegression\n",
      "Accuracy: 0.7967028380634391\n",
      "Precision: 0.8677050882658359\n",
      "Recall: 0.6990713628377813\n",
      "F1-Score: 0.7743131168048928\n",
      "\n",
      "Model: DecisionTreeClassifier\n",
      "Accuracy: 0.8104340567612688\n",
      "Precision: 0.9030784292396389\n",
      "Recall: 0.6945536685350958\n",
      "F1-Score: 0.7852076042750402\n",
      "\n",
      "Model: SVC\n",
      "Accuracy: 0.8121035058430718\n",
      "Precision: 0.9078270388615216\n",
      "Recall: 0.6938007194846482\n",
      "F1-Score: 0.7865136570561456\n",
      "\n",
      "Model: KNeighborsClassifier\n",
      "Accuracy: 0.7460767946577629\n",
      "Precision: 0.8628663286756523\n",
      "Recall: 0.5837864971136953\n",
      "F1-Score: 0.6964071856287425\n",
      "\n"
     ]
    }
   ],
   "source": [
    "from sklearn.metrics import accuracy_score, precision_score, recall_score, f1_score\n",
    "\n",
    "\n",
    "# Define the models\n",
    "models = [\n",
    "    LogisticRegression(C=1),\n",
    "    DecisionTreeClassifier(max_depth=10),\n",
    "    SVC(probability=True),\n",
    "    KNeighborsClassifier(n_neighbors=48)\n",
    "]\n",
    "\n",
    "# Evaluate each model\n",
    "for model in models:\n",
    "    # Train the model\n",
    "    model.fit(X_train_mm, y_train)\n",
    "    \n",
    "    # Make predictions on the test set\n",
    "    y_pred = model.predict(X_test_mm)\n",
    "    \n",
    "    # Calculate evaluation metrics\n",
    "    accuracy = accuracy_score(y_test, y_pred)\n",
    "    precision = precision_score(y_test, y_pred)\n",
    "    recall = recall_score(y_test, y_pred)\n",
    "    f1 = f1_score(y_test, y_pred)\n",
    "    \n",
    "    # Print the evaluation metrics for each model\n",
    "    print(\"Model:\", type(model).__name__)\n",
    "    print(\"Accuracy:\", accuracy)\n",
    "    print(\"Precision:\", precision)\n",
    "    print(\"Recall:\", recall)\n",
    "    print(\"F1-Score:\", f1)\n",
    "    print()\n"
   ]
  },
  {
   "cell_type": "markdown",
   "metadata": {},
   "source": [
    "## 2. Fitting the Different Sklearn Machine Learning Classifiers"
   ]
  },
  {
   "cell_type": "code",
   "execution_count": 17,
   "metadata": {},
   "outputs": [
    {
     "data": {
      "image/png": "[encoded data removed]",
      "text/plain": [
       "<Figure size 1400x500 with 2 Axes>"
      ]
     },
     "metadata": {},
     "output_type": "display_data"
    }
   ],
   "source": [
    "from sklearn.metrics import roc_auc_score\n",
    "\n",
    "# Instantiate\n",
    "models = [\n",
    "    LogisticRegression(C=1),# choose best c values from part 3 \n",
    "    DecisionTreeClassifier(max_depth=10), # choose best max_depth values from part 3 \n",
    "    SVC(probability=True),\n",
    "    KNeighborsClassifier(n_neighbors=48) # choose best n_neighbors values from part 3 \n",
    "]\n",
    "\n",
    "modelnames = ['logit', 'dt', 'svm', 'knn']\n",
    "\n",
    "fig, axes = plt.subplots(1,2, figsize=(14, 5))\n",
    "\n",
    "for i in range(4):\n",
    "    # Fit \n",
    "    models[i].fit(X_train_mm, y_train)\n",
    "\n",
    "    # Predict probabilities\n",
    "    y_proba_train = models[i].predict_proba(X_train_mm)[:,1]\n",
    "    y_proba_test = models[i].predict_proba(X_test_mm)[:, 1]\n",
    "\n",
    "    # Score (AUC)\n",
    "    auc_train = np.round(roc_auc_score(y_train, y_proba_train), 3)\n",
    "    auc_test = np.round(roc_auc_score(y_test, y_proba_test), 3)\n",
    "    \n",
    "    train_label = f'{modelnames[i]} AUC: {auc_train}'\n",
    "    test_label = f'{modelnames[i]} AUC: {auc_test}'\n",
    "\n",
    "    # Plot ROC curve\n",
    "    # Using RocCurveDisplay - pass in the fitted model, then the X data, then the y data\n",
    "    RocCurveDisplay.from_estimator(models[i], X_train_mm, y_train, ax=axes[0], marker='.', label=train_label)\n",
    "    RocCurveDisplay.from_estimator(models[i], X_test_mm, y_test, ax=axes[1], marker='.', label=test_label)\n",
    "\n",
    "axes[0].plot([0,1], [0,1], color='black', linestyle='--')\n",
    "axes[1].plot([0,1], [0,1], color='black', linestyle='--')\n",
    "axes[0].set_title('ROC FOR TRAIN')\n",
    "axes[1].set_title('ROC FOR TEST')\n",
    "\n",
    "plt.show()"
   ]
  },
  {
   "cell_type": "markdown",
   "metadata": {},
   "source": [
    "## 3. Summary"
   ]
  },
  {
   "cell_type": "markdown",
   "metadata": {
    "colab_type": "text",
    "id": "tQw5_Uj_BQUK"
   },
   "source": [
    "\n",
    "After evaluating the performance of the models, we observed minimal differences between their training and testing results, indicating that the models are not overfitting the data. Among the models tested, the SVM model achieved the highest area-under-the-curve (AUC) value for the test set, followed by the decision tree and logit regression models. However, when considering the performance on unseen data, the decision tree model outperformed the others.\n",
    "\n",
    "Examining the receiver operating characteristic (ROC) curve, we can assess the trade-off between false positives and true positives. For instance, in the case of the SVM model, we can achieve a TPR (True Positive Rate) of approximately 0.8 at an FPR (False Positive Rate) of 0.1. This indicates the SVM model's ability to achieve a high true positive rate while keeping the false positive rate relatively low.\n",
    "\n",
    "Overall, our evaluation highlights the comparative performance of the models, with the decision tree model demonstrating superior performance on unseen data. The ROC curve analysis provides valuable insights into the trade-off between false positives and true positives, underscoring the SVM model's favorable TPR at a low FPR."
   ]
  }
 ],
 "metadata": {
  "hide_input": false,
  "kernelspec": {
   "display_name": "Python 3 (ipykernel)",
   "language": "python",
   "name": "python3"
  },
  "language_info": {
   "codemirror_mode": {
    "name": "ipython",
    "version": 3
   },
   "file_extension": ".py",
   "mimetype": "text/x-python",
   "name": "python",
   "nbconvert_exporter": "python",
   "pygments_lexer": "ipython3",
   "version": "3.10.9"
  },
  "toc": {
   "base_numbering": 1,
   "nav_menu": {},
   "number_sections": false,
   "sideBar": true,
   "skip_h1_title": true,
   "title_cell": "Table of Contents",
   "title_sidebar": "Contents",
   "toc_cell": false,
   "toc_position": {},
   "toc_section_display": true,
   "toc_window_display": false
  },
  "toc-autonumbering": false,
  "toc-showcode": false,
  "toc-showmarkdowntxt": false,
  "toc-showtags": false
 },
 "nbformat": 4,
 "nbformat_minor": 4
}
